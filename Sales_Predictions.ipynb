{
  "nbformat": 4,
  "nbformat_minor": 0,
  "metadata": {
    "colab": {
      "name": "Sales_Predictions.ipynb",
      "provenance": [],
      "authorship_tag": "ABX9TyO92gdq2Qtk8uXdE1iwTOSa",
      "include_colab_link": true
    },
    "kernelspec": {
      "name": "python3",
      "display_name": "Python 3"
    },
    "language_info": {
      "name": "python"
    }
  },
  "cells": [
    {
      "cell_type": "markdown",
      "metadata": {
        "id": "view-in-github",
        "colab_type": "text"
      },
      "source": [
        "<a href=\"https://colab.research.google.com/github/dylanahola/Food-Sales-Predictions/blob/main/Sales_Predictions.ipynb\" target=\"_parent\"><img src=\"https://colab.research.google.com/assets/colab-badge.svg\" alt=\"Open In Colab\"/></a>"
      ]
    },
    {
      "cell_type": "code",
      "metadata": {
        "id": "JoMNayDJlDVF",
        "colab": {
          "base_uri": "https://localhost:8080/"
        },
        "outputId": "ea933d58-2f75-474b-b2d0-492e4be29baf"
      },
      "source": [
        "from google.colab import drive \n",
        "drive.mount('/content/drive')"
      ],
      "execution_count": 1,
      "outputs": [
        {
          "output_type": "stream",
          "text": [
            "Drive already mounted at /content/drive; to attempt to forcibly remount, call drive.mount(\"/content/drive\", force_remount=True).\n"
          ],
          "name": "stdout"
        }
      ]
    },
    {
      "cell_type": "code",
      "metadata": {
        "id": "Ok4d_u_mlT0B"
      },
      "source": [
        "import pandas as pd"
      ],
      "execution_count": 2,
      "outputs": []
    },
    {
      "cell_type": "code",
      "metadata": {
        "id": "P_t9fsdnlep4"
      },
      "source": [
        "sales_df = pd.read_csv('/content/drive/MyDrive/sales_predictions.csv')\n",
        "sales_df.head()"
      ],
      "execution_count": null,
      "outputs": []
    },
    {
      "cell_type": "code",
      "metadata": {
        "id": "50QonO3GlzB9",
        "colab": {
          "base_uri": "https://localhost:8080/"
        },
        "outputId": "1384f14e-e815-48f1-c08e-42c0140194a9"
      },
      "source": [
        "#I believe that there are 2410 non null in the Outlet_size column that I'll need to clean up.\n",
        "#There is also  1463 non null in the item weight column\n",
        "sales_df.info()"
      ],
      "execution_count": 12,
      "outputs": [
        {
          "output_type": "stream",
          "text": [
            "<class 'pandas.core.frame.DataFrame'>\n",
            "RangeIndex: 8523 entries, 0 to 8522\n",
            "Data columns (total 10 columns):\n",
            " #   Column                     Non-Null Count  Dtype  \n",
            "---  ------                     --------------  -----  \n",
            " 0   Item_Weight                7060 non-null   float64\n",
            " 1   Item_Fat_Content           8523 non-null   object \n",
            " 2   Item_Visibility            8523 non-null   float64\n",
            " 3   Item_Type                  8523 non-null   object \n",
            " 4   Item_MRP                   8523 non-null   float64\n",
            " 5   Outlet_Establishment_Year  8523 non-null   int64  \n",
            " 6   Outlet_Size                6113 non-null   object \n",
            " 7   Outlet_Location_Type       8523 non-null   object \n",
            " 8   Outlet_Type                8523 non-null   object \n",
            " 9   Item_Outlet_Sales          8523 non-null   float64\n",
            "dtypes: float64(4), int64(1), object(5)\n",
            "memory usage: 666.0+ KB\n"
          ],
          "name": "stdout"
        }
      ]
    },
    {
      "cell_type": "code",
      "metadata": {
        "id": "BHHY4MEynnr3"
      },
      "source": [
        "sales_df['Item_Weight'].head(20)\n",
        "\n",
        "#My brain works well when looking at things like a checklist to work through \n",
        "#So first I'm going to look for any:\n",
        "#Irrelevent data\n",
        "#Duplicates \n",
        "#Unit inconsistencies \n",
        "#Missing Data"
      ],
      "execution_count": null,
      "outputs": []
    },
    {
      "cell_type": "code",
      "metadata": {
        "id": "Vm9pda5tVtPX"
      },
      "source": [
        "#Irrelevant data .. I think that the item identifier and outlet identifier columns can be removed because they're both unique to each row.\n",
        "sales_df.drop(columns= 'Item_Identifier', inplace = True) \n",
        "sales_df.drop(columns= 'Outlet_Identifier', inplace = True)"
      ],
      "execution_count": 6,
      "outputs": []
    },
    {
      "cell_type": "code",
      "metadata": {
        "id": "a1SdXymfernW"
      },
      "source": [
        "#Duplicates .. looks like there aren't any to worry about.\n",
        "sales_df.duplicated().any()"
      ],
      "execution_count": null,
      "outputs": []
    },
    {
      "cell_type": "code",
      "metadata": {
        "id": "sZafiz1Cff6p"
      },
      "source": [
        "#Unit inconsistencies ..\n",
        "#As far as I can tell the non null values in my data aren't caused by a unit inconsistency \n",
        "sales_df['Item_Weight'].head(20)"
      ],
      "execution_count": null,
      "outputs": []
    },
    {
      "cell_type": "code",
      "metadata": {
        "id": "7mu_GREMgE6X"
      },
      "source": [
        "sales_df['Outlet_Size']"
      ],
      "execution_count": null,
      "outputs": []
    },
    {
      "cell_type": "code",
      "metadata": {
        "id": "EXounEsXgiP7"
      },
      "source": [
        "#Missing Data\n",
        "#There is missing data in both item weight and outlet size. \n",
        "#I decided that there's enough missing values in the outlet size column to drop it\n",
        "sales_df.drop(columns = ['Outlet_Size'])"
      ],
      "execution_count": null,
      "outputs": []
    },
    {
      "cell_type": "code",
      "metadata": {
        "id": "-fhD6ykYjDGk"
      },
      "source": [
        "weight_mean = sales_df['Item_Weight'].mean()"
      ],
      "execution_count": 16,
      "outputs": []
    },
    {
      "cell_type": "code",
      "metadata": {
        "id": "eFD3pmNVkK0j"
      },
      "source": [
        "sales_df.fillna(weight_mean, inplace = True)"
      ],
      "execution_count": 18,
      "outputs": []
    },
    {
      "cell_type": "code",
      "metadata": {
        "id": "UX2A0-MJkXV7"
      },
      "source": [
        "#I didn't think there was enough missing data in the item weight column to droip it\n",
        "#So I decided to fill the na values with the mean of the column"
      ],
      "execution_count": null,
      "outputs": []
    }
  ]
}